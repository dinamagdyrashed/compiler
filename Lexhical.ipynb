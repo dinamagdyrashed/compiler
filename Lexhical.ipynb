{
 "cells": [
  {
   "cell_type": "code",
   "execution_count": 1,
   "id": "c262bd0d-3266-49c2-81d1-9713a15b4dc0",
   "metadata": {},
   "outputs": [],
   "source": [
    "import re"
   ]
  },
  {
   "cell_type": "code",
   "execution_count": 2,
   "id": "23b28627-140c-42cd-8e68-a5ff02a07bcd",
   "metadata": {},
   "outputs": [],
   "source": [
    "class Token:\n",
    "    def __init__(self, type, value):\n",
    "        self.type = type\n",
    "        self.value = value\n",
    "\n",
    "    def __str__(self):\n",
    "        return f'Token({self.type}, {self.value})'"
   ]
  },
  {
   "cell_type": "code",
   "execution_count": 3,
   "id": "313bde91-9474-49c3-ae7f-e7fe133a6070",
   "metadata": {},
   "outputs": [],
   "source": [
    "class Lexer:\n",
    "    def __init__(self, source_code):\n",
    "        self.source_code = source_code\n",
    "        self.position = 0\n",
    "        self.tokens = []\n",
    "\n",
    "    def tokenize(self):\n",
    "        while self.position < len(self.source_code):\n",
    "            match = self._match_token()\n",
    "            if not match:\n",
    "                print(f\"Unexpected character: {self.source_code[self.position]}\")\n",
    "                self.position += 1\n",
    "\n",
    "        return self.tokens\n",
    "\n",
    "    def _match_token(self):\n",
    "        for token_type, pattern in TOKEN_TYPES.items():\n",
    "            regex = re.compile(pattern)\n",
    "            match = regex.match(self.source_code, self.position)\n",
    "            if match:\n",
    "                value = match.group(0)\n",
    "                token = Token(token_type, value)\n",
    "                self.tokens.append(token)\n",
    "                self.position = match.end()\n",
    "                return match\n",
    "        return None"
   ]
  },
  {
   "cell_type": "code",
   "execution_count": 4,
   "id": "2214c837-eaac-4b5f-b6b5-0bd53fef9d5f",
   "metadata": {},
   "outputs": [
    {
     "name": "stdout",
     "output_type": "stream",
     "text": [
      "Unexpected character: =\n",
      "Token(IDENTIFIER, x)\n",
      "Token(WHITESPACE,  )\n",
      "Token(WHITESPACE,  )\n",
      "Token(NUMBER, 10)\n",
      "Token(WHITESPACE,  )\n",
      "Token(OPERATOR, +)\n",
      "Token(WHITESPACE,  )\n",
      "Token(NUMBER, 20)\n",
      "Token(WHITESPACE,  )\n",
      "Token(OPERATOR, *)\n",
      "Token(WHITESPACE,  )\n",
      "Token(PARENTHESIS, ()\n",
      "Token(NUMBER, 30)\n",
      "Token(WHITESPACE,  )\n",
      "Token(OPERATOR, -)\n",
      "Token(WHITESPACE,  )\n",
      "Token(NUMBER, 5)\n",
      "Token(PARENTHESIS, ))\n"
     ]
    }
   ],
   "source": [
    "if __name__ == \"__main__\":\n",
    "    TOKEN_TYPES = {\n",
    "        'NUMBER': r'\\d+',\n",
    "        'IDENTIFIER': r'[a-zA-Z_][a-zA-Z0-9_]*',\n",
    "        'OPERATOR': r'[+\\-*/]',\n",
    "        'PARENTHESIS': r'[()\\[\\]{}]',\n",
    "        'WHITESPACE': r'\\s+'\n",
    "    }\n",
    "\n",
    "    source_code = \"x = 10 + 20 * (30 - 5)\"\n",
    "    lexer = Lexer(source_code)\n",
    "    tokens = lexer.tokenize()\n",
    "\n",
    "    for token in tokens:\n",
    "        print(token)"
   ]
  },
  {
   "cell_type": "code",
   "execution_count": null,
   "id": "262b4580-12a6-4afa-891f-323684cf8873",
   "metadata": {},
   "outputs": [],
   "source": []
  }
 ],
 "metadata": {
  "kernelspec": {
   "display_name": "Python 3 (ipykernel)",
   "language": "python",
   "name": "python3"
  },
  "language_info": {
   "codemirror_mode": {
    "name": "ipython",
    "version": 3
   },
   "file_extension": ".py",
   "mimetype": "text/x-python",
   "name": "python",
   "nbconvert_exporter": "python",
   "pygments_lexer": "ipython3",
   "version": "3.11.5"
  }
 },
 "nbformat": 4,
 "nbformat_minor": 5
}
