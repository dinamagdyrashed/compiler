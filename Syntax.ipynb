{
 "cells": [
  {
   "cell_type": "code",
   "execution_count": 6,
   "id": "4e220cd2-fab6-4495-94b3-c7682797d87d",
   "metadata": {},
   "outputs": [
    {
     "name": "stdout",
     "output_type": "stream",
     "text": [
      "  9\n",
      "  6\n",
      "  3\n",
      "  -\n",
      "  *\n"
     ]
    },
    {
     "ename": "SyntaxError",
     "evalue": "Unexpected tokens after parsing (<string>)",
     "output_type": "error",
     "traceback": [
      "Traceback \u001b[1;36m(most recent call last)\u001b[0m:\n",
      "\u001b[0m  File \u001b[0;32m~\\anaconda3\\lib\\site-packages\\IPython\\core\\interactiveshell.py:3460\u001b[0m in \u001b[0;35mrun_code\u001b[0m\n    exec(code_obj, self.user_global_ns, self.user_ns)\u001b[0m\n",
      "\u001b[0m  Cell \u001b[0;32mIn[6], line 60\u001b[0m\n    parser.parse()\u001b[0m\n",
      "\u001b[1;36m  Cell \u001b[1;32mIn[6], line 54\u001b[1;36m in \u001b[1;35mparse\u001b[1;36m\n\u001b[1;33m    raise SyntaxError(\"Unexpected tokens after parsing\")\u001b[1;36m\n",
      "\u001b[1;36m  File \u001b[1;32m<string>\u001b[1;36m\u001b[0m\n\u001b[1;31mSyntaxError\u001b[0m\u001b[1;31m:\u001b[0m Unexpected tokens after parsing\n"
     ]
    }
   ],
   "source": [
    "class LLParser:\n",
    "    def __init__(self, input_string):\n",
    "        self.input_string = input_string\n",
    "        self.index = 0\n",
    "        self.current_token = None\n",
    "\n",
    "    def next_token(self):\n",
    "        while self.index < len(self.input_string) and self.input_string[self.index].isspace():\n",
    "            self.index += 1\n",
    "\n",
    "        if self.index < len(self.input_string):\n",
    "            self.current_token = self.input_string[self.index]\n",
    "            self.index += 1\n",
    "        else:\n",
    "            self.current_token = None\n",
    "\n",
    "    def match(self, expected_token):\n",
    "        if self.current_token == expected_token:\n",
    "            self.next_token()\n",
    "        else:\n",
    "            raise SyntaxError(f\"Expected {expected_token}, but got {self.current_token}\")\n",
    "\n",
    "    def parse_expression(self):\n",
    "        self.parse_term()\n",
    "        while self.current_token in ('+', '-'):\n",
    "            op = self.current_token\n",
    "            self.next_token()\n",
    "            self.parse_term()\n",
    "            print(f\"  {op}\")\n",
    "\n",
    "    def parse_term(self):\n",
    "        self.parse_factor()\n",
    "        while self.current_token in ('*', '/'):\n",
    "            op = self.current_token\n",
    "            self.next_token()\n",
    "            self.parse_factor()\n",
    "            print(f\"  {op}\")\n",
    "\n",
    "    def parse_factor(self):\n",
    "        if self.current_token.isdigit():\n",
    "            print(f\"  {self.current_token}\")\n",
    "            self.next_token()\n",
    "        elif self.current_token == '(':\n",
    "            self.next_token()\n",
    "            self.parse_expression()\n",
    "            self.match(')')\n",
    "        else:\n",
    "            raise SyntaxError(f\"Unexpected token: {self.current_token}\")\n",
    "\n",
    "    def parse(self):\n",
    "        self.next_token()\n",
    "        self.parse_expression()\n",
    "        if self.current_token is not None and not self.current_token.isspace():\n",
    "            raise SyntaxError(\"Unexpected tokens after parsing\")\n",
    "        else:\n",
    "            print(\"Syntax Correct\")\n",
    "\n",
    "input_expr =\"9 * ( 6 - 3 ) \"\n",
    "parser = LLParser(input_expr)\n",
    "parser.parse()"
   ]
  },
  {
   "cell_type": "code",
   "execution_count": null,
   "id": "e593c892-dd81-4121-ad45-9e49c8206393",
   "metadata": {},
   "outputs": [],
   "source": []
  },
  {
   "cell_type": "code",
   "execution_count": null,
   "id": "03cd103e",
   "metadata": {},
   "outputs": [],
   "source": []
  }
 ],
 "metadata": {
  "kernelspec": {
   "display_name": "Python 3 (ipykernel)",
   "language": "python",
   "name": "python3"
  },
  "language_info": {
   "codemirror_mode": {
    "name": "ipython",
    "version": 3
   },
   "file_extension": ".py",
   "mimetype": "text/x-python",
   "name": "python",
   "nbconvert_exporter": "python",
   "pygments_lexer": "ipython3",
   "version": "3.10.9"
  }
 },
 "nbformat": 4,
 "nbformat_minor": 5
}
